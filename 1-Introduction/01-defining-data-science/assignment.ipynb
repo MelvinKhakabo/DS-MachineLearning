{
 "cells": [
  {
   "cell_type": "markdown",
   "id": "31f59a29",
   "metadata": {},
   "source": [
    "# Assignment: Data Science Scenarios\n",
    "In this first assignment, we ask you to think about some real-life process or problem in different problem domains, and how you can improve it using the Data Science process. Think about the following:\n",
    "\n",
    "Which data can you collect?\n",
    "How would you collect it?\n",
    "How would you store the data? How large the data is likely to be?\n",
    "Which insights you might be able to get from this data? Which decisions we would be able to take based on the data?\n",
    "Try to think about 3 different problems/processes and describe each of the points above for each problem domain.\n",
    "\n",
    "Here are some of the problem domains and problems that can get you started thinking:\n",
    "\n",
    "## Question 1: How can you use data to improve education process for international curriculum children in Kenyan schools?\n"
   ]
  },
  {
   "cell_type": "markdown",
   "id": "9a011f12",
   "metadata": {},
   "source": [
    "| Problem Domain | Problem | Which Data to Collect | How to Store the Data | Which insights/decisions we can make|\n",
    "|    :--:        |  :---:  |       :-----:         |        :-----:        |               :-----:               |\n",
    "|Education (International curriculum students in Kenyan schools) | Students follow the curriculum from childhood, but performance varies due to teaching methods, extracurricular load, or individual learning gaps. We want to identify predictors of success and intervene early for at-risk students. | 1. Granular academic performance (per-topic quiz scores, mock exams). 2.Teacher effectiveness metrics (student feedback, lesson observation notes). 3. Extracurricular engagement (sports, clubs, hours spent). 4. Student wellness data (sleep patterns, stress surveys – optional with consent) 5. Past cohort data (historical trends in final grades) | 1. Structured data (grades, attendance) → PostgreSQL or Firebase. 2. Unstructured data (teacher notes, open-ended feedback) → AWS S3 + NLP preprocessing. 3. Time-series data (weekly quiz scores) → InfluxDB. 4. Ethical storage: Anonymized IDs for sensitive data (wellness). | 1. Predictive modeling: Flag at-risk students early using performance trends. 2.Teacher PD: Correlate teaching methods with top-performing classes.- Curriculum tweaks: Identify consistently low-scoring topics for redesign. 3. Extracurricular balance: Does excessive club time harm STEM grades?|"
   ]
  },
  {
   "cell_type": "markdown",
   "id": "8e28e356",
   "metadata": {},
   "source": [
    "## Quesstion 2: How can you use data to control vaccination during the pandemic?\n"
   ]
  },
  {
   "cell_type": "markdown",
   "id": "fb5b0ab4",
   "metadata": {},
   "source": [
    "| Problem Domain | Problem | Which Data to Collect | How to Store the Data | Which insights/decisions we can make|\n",
    "|    :--:        |  :---:  |       :-----:         |        :-----:        |               :-----:               |\n",
    "|Vaccination(Pandemic Control) | During a pandemic (e.g., COVID-19), ensuring efficient vaccine distribution and tracking public compliance is difficult. | 1. Vaccination records (dates, doses, manufacturer). 2. Geolocation data (where vaccines are administered). 3. Demographic data (age, occupation, health conditions). 4. Public sentiment (social media surveys on vaccine hesitancy) | 1. Structured (SQL) for patient records (HIPAA/GDPR compliance). 2.Geospatial databases (PostGIS) for location tracking. 3. Cloud-based analytics (Google BigQuery) for real-time dashboards | 1. Predict high-risk areas needing more vaccines. 2. Identify vaccine hesitancy trends and target awareness campaigns. 3. Optimize distribution logistics to reduce waste.|"
   ]
  },
  {
   "cell_type": "markdown",
   "id": "52bda372",
   "metadata": {},
   "source": [
    "## Question 3: How can you use data to make sure you are being productive at work?"
   ]
  },
  {
   "cell_type": "markdown",
   "id": "2d15b081",
   "metadata": {},
   "source": [
    "| Problem Domain | Problem | Which Data to Collect | How to Store the Data | Which insights/decisions we can make|\n",
    "|    :--:        |  :---:  |       :-----:         |        :-----:        |               :-----:               |\n",
    "|Productivity (Remote work efficiency) | Employees/students working remotely struggle with time management and distractions, reducing productivity. | 1. App/website usage logs (time spent on work vs. social media). 2. Task completion rates (Jira/Asana/Trello data). 3. Self-reported focus levels (daily surveys). 4. Calendar/meeting schedules (Google Calendar logs) | 1. Time-series databases (InfluxDB) for activity logs. 2. SQL for task/completion data. 3. Privacy-focused (anonymize employee IDs) | 1. Identify peak productivity hours for scheduling deep work. 2. Recommend breaks/app blockers based on distraction patterns. 3. Compare team productivity trends to adjust workloads.|"
   ]
  }
 ],
 "metadata": {
  "kernelspec": {
   "display_name": "Python 3",
   "language": "python",
   "name": "python3"
  },
  "language_info": {
   "codemirror_mode": {
    "name": "ipython",
    "version": 3
   },
   "file_extension": ".py",
   "mimetype": "text/x-python",
   "name": "python",
   "nbconvert_exporter": "python",
   "pygments_lexer": "ipython3",
   "version": "3.13.1"
  }
 },
 "nbformat": 4,
 "nbformat_minor": 5
}
